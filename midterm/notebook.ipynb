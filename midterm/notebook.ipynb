{
 "cells": [
  {
   "cell_type": "markdown",
   "metadata": {},
   "source": [
    "# Laptop price and feature prediction\n",
    "\n",
    "Data source https://www.kaggle.com/datasets/talhabarkaatahmad/laptop-prices-dataset-october-2023/data\n",
    "\n",
    "I am using this data source because it is fairly recent, and comes from a reputable retailer (Amazon) so the prices should be in line with the market. It also contains the Amazon rating which might be helpful in determining price and overall quality. \n",
    "\n",
    "This is not the highest quality dataset though and after some deeper analysis it seems to be missing the following data:\n",
    "- Number of CPU cores (might be correlated with cpu but not always the case )\n",
    "- Battery capacity\n",
    "- Build Quality (might be correlated with rating)\n",
    "- Keyboard type\n",
    "- Touchscreen\n",
    "- mass storage type (SSD/HDD) and throughput\n",
    "- Screen resolution\n",
    "\n",
    "There were also a significant amount of inconsistency in many of the columns and I had to make some assumptions to align the values and get a reasonable number of catergorical values \n",
    "\n",
    "\n"
   ]
  },
  {
   "cell_type": "markdown",
   "metadata": {},
   "source": [
    "## Data preparation, data cleaning, and EDA\n"
   ]
  },
  {
   "cell_type": "code",
   "execution_count": 4,
   "metadata": {},
   "outputs": [],
   "source": [
    "import pandas as pd\n",
    "import numpy as np\n",
    "import matplotlib.pyplot as plt\n",
    "import seaborn as sns\n",
    "%matplotlib inline\n"
   ]
  },
  {
   "cell_type": "code",
   "execution_count": 5,
   "metadata": {},
   "outputs": [
    {
     "data": {
      "text/html": [
       "<div>\n",
       "<style scoped>\n",
       "    .dataframe tbody tr th:only-of-type {\n",
       "        vertical-align: middle;\n",
       "    }\n",
       "\n",
       "    .dataframe tbody tr th {\n",
       "        vertical-align: top;\n",
       "    }\n",
       "\n",
       "    .dataframe thead th {\n",
       "        text-align: right;\n",
       "    }\n",
       "</style>\n",
       "<table border=\"1\" class=\"dataframe\">\n",
       "  <thead>\n",
       "    <tr style=\"text-align: right;\">\n",
       "      <th></th>\n",
       "      <th>brand</th>\n",
       "      <th>model</th>\n",
       "      <th>screen_size</th>\n",
       "      <th>color</th>\n",
       "      <th>harddisk</th>\n",
       "      <th>cpu</th>\n",
       "      <th>ram</th>\n",
       "      <th>OS</th>\n",
       "      <th>special_features</th>\n",
       "      <th>graphics</th>\n",
       "      <th>graphics_coprocessor</th>\n",
       "      <th>cpu_speed</th>\n",
       "      <th>rating</th>\n",
       "      <th>price</th>\n",
       "    </tr>\n",
       "  </thead>\n",
       "  <tbody>\n",
       "    <tr>\n",
       "      <th>0</th>\n",
       "      <td>ROKC</td>\n",
       "      <td>NaN</td>\n",
       "      <td>14 Inches</td>\n",
       "      <td>Blue</td>\n",
       "      <td>1000 GB</td>\n",
       "      <td>Intel Core i7</td>\n",
       "      <td>8 GB</td>\n",
       "      <td>Windows 11</td>\n",
       "      <td>NaN</td>\n",
       "      <td>Integrated</td>\n",
       "      <td>Intel</td>\n",
       "      <td>1.2 GHz</td>\n",
       "      <td>NaN</td>\n",
       "      <td>$589.99</td>\n",
       "    </tr>\n",
       "    <tr>\n",
       "      <th>1</th>\n",
       "      <td>HP</td>\n",
       "      <td>NaN</td>\n",
       "      <td>15.6 Inches</td>\n",
       "      <td>Silver</td>\n",
       "      <td>1000 GB</td>\n",
       "      <td>Intel Core i5</td>\n",
       "      <td>64 GB</td>\n",
       "      <td>Windows 11 Pro</td>\n",
       "      <td>Backlit Keyboard</td>\n",
       "      <td>Integrated</td>\n",
       "      <td>Intel</td>\n",
       "      <td>NaN</td>\n",
       "      <td>4.5</td>\n",
       "      <td>$999.99</td>\n",
       "    </tr>\n",
       "    <tr>\n",
       "      <th>2</th>\n",
       "      <td>MSI</td>\n",
       "      <td>Vector GP66 12UGS-267</td>\n",
       "      <td>15.66 Inches</td>\n",
       "      <td>Core Black</td>\n",
       "      <td>NaN</td>\n",
       "      <td>Intel Core i9</td>\n",
       "      <td>32 GB</td>\n",
       "      <td>Windows 11 Home</td>\n",
       "      <td>NaN</td>\n",
       "      <td>Dedicated</td>\n",
       "      <td>NaN</td>\n",
       "      <td>1.8 GHz</td>\n",
       "      <td>5.0</td>\n",
       "      <td>$1,599.00</td>\n",
       "    </tr>\n",
       "    <tr>\n",
       "      <th>3</th>\n",
       "      <td>Apple</td>\n",
       "      <td>MacBook Air</td>\n",
       "      <td>13.3 Inches</td>\n",
       "      <td>Silver</td>\n",
       "      <td>256 GB</td>\n",
       "      <td>Unknown</td>\n",
       "      <td>8 GB</td>\n",
       "      <td>Mac OS</td>\n",
       "      <td>Backlit Keyboard</td>\n",
       "      <td>Integrated</td>\n",
       "      <td>NaN</td>\n",
       "      <td>NaN</td>\n",
       "      <td>4.8</td>\n",
       "      <td>$689.99</td>\n",
       "    </tr>\n",
       "    <tr>\n",
       "      <th>4</th>\n",
       "      <td>Apple</td>\n",
       "      <td>MacBook Air</td>\n",
       "      <td>15.3 Inches</td>\n",
       "      <td>Midnight</td>\n",
       "      <td>256 GB</td>\n",
       "      <td>Unknown</td>\n",
       "      <td>8 GB</td>\n",
       "      <td>Mac OS</td>\n",
       "      <td>NaN</td>\n",
       "      <td>Integrated</td>\n",
       "      <td>NaN</td>\n",
       "      <td>NaN</td>\n",
       "      <td>4.8</td>\n",
       "      <td>$1,144.48</td>\n",
       "    </tr>\n",
       "  </tbody>\n",
       "</table>\n",
       "</div>"
      ],
      "text/plain": [
       "   brand                  model   screen_size       color harddisk  \\\n",
       "0   ROKC                    NaN     14 Inches        Blue  1000 GB   \n",
       "1     HP                    NaN   15.6 Inches      Silver  1000 GB   \n",
       "2    MSI  Vector GP66 12UGS-267  15.66 Inches  Core Black      NaN   \n",
       "3  Apple            MacBook Air   13.3 Inches      Silver   256 GB   \n",
       "4  Apple            MacBook Air   15.3 Inches    Midnight   256 GB   \n",
       "\n",
       "             cpu    ram               OS  special_features    graphics  \\\n",
       "0  Intel Core i7   8 GB       Windows 11               NaN  Integrated   \n",
       "1  Intel Core i5  64 GB   Windows 11 Pro  Backlit Keyboard  Integrated   \n",
       "2  Intel Core i9  32 GB  Windows 11 Home               NaN   Dedicated   \n",
       "3        Unknown   8 GB           Mac OS  Backlit Keyboard  Integrated   \n",
       "4        Unknown   8 GB           Mac OS               NaN  Integrated   \n",
       "\n",
       "  graphics_coprocessor cpu_speed  rating       price  \n",
       "0                Intel   1.2 GHz     NaN    $589.99   \n",
       "1                Intel       NaN     4.5    $999.99   \n",
       "2                  NaN   1.8 GHz     5.0  $1,599.00   \n",
       "3                  NaN       NaN     4.8    $689.99   \n",
       "4                  NaN       NaN     4.8  $1,144.48   "
      ]
     },
     "execution_count": 5,
     "metadata": {},
     "output_type": "execute_result"
    }
   ],
   "source": [
    "data = pd.read_csv('./data/amazon_laptop_prices_v01.csv')\n",
    "data.head()"
   ]
  },
  {
   "cell_type": "code",
   "execution_count": 6,
   "metadata": {},
   "outputs": [
    {
     "data": {
      "text/plain": [
       "screen_size\n",
       "15.6      1995\n",
       "14        1113\n",
       "16         362\n",
       "15.66      196\n",
       "13.3       194\n",
       "17.3       150\n",
       "17          89\n",
       "11.6        84\n",
       "13.4        43\n",
       "18          41\n",
       "13          36\n",
       "15          25\n",
       "13.5        11\n",
       "12.5        10\n",
       "14.1         9\n",
       "12           7\n",
       "10.1         7\n",
       "13.1         6\n",
       "16.1         5\n",
       "14.5         4\n",
       "16.2         4\n",
       "13.6         4\n",
       "15.4         3\n",
       "12.3         3\n",
       "13.9         3\n",
       "11           2\n",
       "12.4         2\n",
       "12.45        2\n",
       "10.5         1\n",
       "12.2         1\n",
       "14.4         1\n",
       "15.3         1\n",
       "22           1\n",
       "27           1\n",
       "10           1\n",
       "Name: count, dtype: int64"
      ]
     },
     "execution_count": 6,
     "metadata": {},
     "output_type": "execute_result"
    }
   ],
   "source": [
    "# fix the screen_size column by removing inches (screen size in the US is )\n",
    "\n",
    "#convert any float values in the screen_size column to strings\n",
    "data['screen_size'] = data['screen_size'].astype(str)\n",
    "\n",
    "# remove the word inches from the screen_size column\n",
    "data['screen_size'] = data['screen_size'].str.replace('inches', '', case=False)\n",
    "data['screen_size'] = data['screen_size'].replace('nan', np.nan)\n",
    "# data['screen_size'] = data['screen_size'].astype(float).round().astype(str)\n",
    "\n",
    "data['screen_size'].value_counts()\n"
   ]
  },
  {
   "cell_type": "code",
   "execution_count": 7,
   "metadata": {},
   "outputs": [
    {
     "data": {
      "text/plain": [
       "dict_keys(['backlit keyboard', 'pen', 'anti glare', 'memory card slot', 'hd audio', 'numeric keypad', 'fingerprint reader', 'thin bezel', 'bluetooth'])"
      ]
     },
     "execution_count": 7,
     "metadata": {},
     "output_type": "execute_result"
    }
   ],
   "source": [
    "from collections import Counter\n",
    "\n",
    "replacements = {\n",
    "    'anti-glare screen': 'anti glare',\n",
    "    'anti glare coating': 'anti glare',\n",
    "    'anti-glare': 'anti glare',\n",
    "    'wifi & bluetooth': 'bluetooth',\n",
    "    'backlit kb': 'backlit keyboard',\n",
    "    'fingerprint': 'fingerprint reader',\n",
    "    'high definition audio': 'hd audio',\n",
    "    'nanoedge bezel': 'thin bezel',\n",
    "    'support stylus': 'pen',\n",
    "    'stylus': 'pen',\n",
    "}\n",
    "\n",
    "#for each value in special_features column, split it by comma and add it to the counter\n",
    "special_features = Counter()\n",
    "for row in data['special_features']:\n",
    "    if isinstance(row, str):\n",
    "        values = row.lower().split(',')\n",
    "        #strip any leading or trailing spaces from each value\n",
    "        values = [value.strip() for value in values]\n",
    "        # for each replacement, replace the value with the key\n",
    "        values = [replacements.get(value, value) for value in values]\n",
    "        special_features.update(values)\n",
    "\n",
    "# remove 'information not available' from the special_features counter\n",
    "special_features.pop('information not available', None)\n",
    "# select all the special_features that have a count greater than 15\n",
    "special_features = {key: value for key, value in special_features.items() if value > 15}\n",
    "\n",
    "top_feature_names = special_features.keys()\n",
    "special_feature_column_names = [name.replace(' ', '_') for name in top_feature_names]\n",
    "# for each special_feature, create a new column in the dataframe if the special_feature is present in the special_features column\n",
    "for feature in special_feature_column_names:\n",
    "    data[feature] = data['special_features'].str.contains(feature, case=False)\n",
    "    data[feature] = data[feature].fillna(False)\n",
    "\n",
    "# drop the special_features column\n",
    "data = data.drop('special_features', axis=1)\n",
    "top_feature_names"
   ]
  },
  {
   "cell_type": "code",
   "execution_count": 8,
   "metadata": {},
   "outputs": [
    {
     "data": {
      "text/plain": [
       "826.0227111183509"
      ]
     },
     "execution_count": 8,
     "metadata": {},
     "output_type": "execute_result"
    }
   ],
   "source": [
    "# fix the price column by removing the dollar sign and commas\n",
    "data['price'] = data['price'].str.replace('$', '').str.replace(',', '').astype(float)\n",
    "#remove all rows where the price is nan\n",
    "data = data.dropna(subset=['price'])\n",
    "data.reset_index(drop=True, inplace=True)\n",
    "\n",
    "# find all rows with price over $6000\n",
    "# data[data['price'] > 6000]\n",
    "data['price'].std()"
   ]
  },
  {
   "cell_type": "code",
   "execution_count": 9,
   "metadata": {},
   "outputs": [],
   "source": [
    "#replace nan values with ''\n",
    "data['ram'] = data['ram'].fillna('')\n",
    "# if any of the values in the ram column have MB in them, convert them to GB and place in the gb_ram column\n",
    "data.loc[data['ram'].str.contains('MB'), 'ram_gb'] = data.loc[data['ram'].str.contains('MB'), 'ram'].str.replace('MB', '').astype(float) / 1000\n",
    "# fix the ram column by removing the GB if the value contains GB and convert to float\n",
    "data.loc[data['ram'].str.contains('GB'), 'ram_gb'] = data.loc[data['ram'].str.contains('GB'), 'ram'].str.replace('GB', '').astype(float)\n",
    "data = data.drop('ram', axis=1)\n",
    "\n"
   ]
  },
  {
   "cell_type": "code",
   "execution_count": 10,
   "metadata": {},
   "outputs": [
    {
     "data": {
      "text/plain": [
       "graphics_mfr\n",
       "nvidia      293\n",
       "radeon       27\n",
       "intel        17\n",
       "amd           9\n",
       "qualcomm      1\n",
       "Name: count, dtype: int64"
      ]
     },
     "execution_count": 10,
     "metadata": {},
     "output_type": "execute_result"
    }
   ],
   "source": [
    "data['graphics'] = data['graphics'].fillna('Unknown')\n",
    "data['graphics_coprocessor'] = data['graphics_coprocessor'].fillna('Unknown')\n",
    "data['graphics_type'] = 'integrated'\n",
    "# if the graphics column does not contain integrated, set the graphics_type column to discrete\n",
    "data.loc[~data['graphics'].str.contains('Integrated'), 'graphics_type'] = 'discrete'\n",
    "# if the graphics column contains Unknown, set the graphics_type column to nan\n",
    "data.loc[data['graphics'].str.contains('Unknown'), 'graphics_type'] = np.nan\n",
    "# set to integrated if the column contains Iris Xe\n",
    "data.loc[data['graphics'].str.contains('Iris Xe'), 'graphics_type'] = 'integrated'\n",
    "#set the graphics_type column to integrated if graphics_coprocessor contains Intel\n",
    "data.loc[data['graphics_coprocessor'].str.contains('Intel'), 'graphics_type'] = 'integrated'\n",
    "#set the graphics_type column to discrete if graphics_coprocessor contains discrete\n",
    "data.loc[data['graphics_coprocessor'].str.lower().str.contains('discrete'), 'graphics_type'] = 'discrete'\n",
    "\n",
    "# set the graphics_mfr column to the first word in the graphics column if the graphics_type is discrete\n",
    "data.loc[data['graphics_type'] == 'discrete', 'graphics_mfr'] = data.loc[data['graphics_type'] == 'discrete', 'graphics'].str.split(' ').str[0].str.lower()\n",
    "data['graphics_mfr'].fillna('unknown', inplace=True)\n",
    "data.loc[data['graphics_mfr'].str.contains('dedicated|shared'), 'graphics_mfr'] = 'unknown'\n",
    "data.loc[data['graphics_mfr'].str.contains('intel|iris|uhd|gt2'), 'graphics_mfr'] = 'intel'\n",
    "data.loc[data['graphics_mfr'].str.contains('rtx|geforce|t550|t500,hd|t1200|nvidia®|quadro|qn20-m1-r'), 'graphics_mfr'] = 'nvidia'\n",
    "data.loc[data['graphics_mfr'].str.contains('adreno'), 'graphics_mfr'] = 'qualcomm'\n",
    "data.loc[data['graphics_mfr'] == 'unknown', 'graphics_mfr'] = np.nan\n",
    "\n",
    "data = data.drop('graphics', axis=1)\n",
    "data = data.drop('graphics_coprocessor', axis=1)\n",
    "\n",
    "data['graphics_mfr'].value_counts()"
   ]
  },
  {
   "cell_type": "code",
   "execution_count": 11,
   "metadata": {},
   "outputs": [
    {
     "data": {
      "text/plain": [
       "brand\n",
       "dell         1728\n",
       "hp            808\n",
       "msi           473\n",
       "lenovo        318\n",
       "asus          163\n",
       "acer          119\n",
       "lg             39\n",
       "apple          29\n",
       "samsung        23\n",
       "alienware      14\n",
       "microsoft      14\n",
       "panasonic      12\n",
       "toughbook      11\n",
       "gigabyte       11\n",
       "razer           6\n",
       "latitude        3\n",
       "luqeeg          3\n",
       "Name: count, dtype: int64"
      ]
     },
     "execution_count": 11,
     "metadata": {},
     "output_type": "execute_result"
    }
   ],
   "source": [
    "data['brand'].fillna('unknown', inplace=True)\n",
    "# set all values of ROKC in the brand column to nan\n",
    "data['brand'] = data['brand'].replace('ROKC', 'unknown')\n",
    "data.loc[data['brand'].str.contains('latitude'), 'brand'] = 'dell'\n",
    "data.loc[data['brand'].str.contains('toughbook'), 'brand'] = 'panasonic'\n",
    "\n",
    "data['brand'] = data['brand'].str.lower()\n",
    "\n",
    "#select all brands with only 1 or 2 values\n",
    "brands = data['brand'].value_counts()\n",
    "brands = brands[brands < 3].index.tolist()\n",
    "#set all brands with only 1 or 2 values to nan\n",
    "data.loc[data['brand'].isin(brands), 'brand'] = 'unknown'\n",
    "\n",
    "data.loc[data['brand'] == 'unknown', 'brand'] = np.nan\n",
    "\n",
    "data['brand'].value_counts()\n"
   ]
  },
  {
   "cell_type": "code",
   "execution_count": 12,
   "metadata": {},
   "outputs": [
    {
     "data": {
      "text/plain": [
       "OS\n",
       "Windows 11 Home    2204\n",
       "Windows 11 Pro      909\n",
       "Windows 10 Home     612\n",
       "Windows 10 Pro      486\n",
       "Chrome OS           125\n",
       "Windows(Other)       49\n",
       "Other                30\n",
       "Mac OS               25\n",
       "Linux                 1\n",
       "Name: count, dtype: int64"
      ]
     },
     "execution_count": 12,
     "metadata": {},
     "output_type": "execute_result"
    }
   ],
   "source": [
    "\n",
    "#set nan in OS to 'Unknown'\n",
    "data['OS'] = data['OS'].fillna('Unknown')\n",
    "\n",
    "data.loc[data['OS'].str.contains('10') & ~data['OS'].str.contains('pro', case=False), 'OS'] = 'Windows 10 Home'\n",
    "data.loc[data['OS'].str.contains('10') & data['OS'].str.contains('pro', case=False), 'OS'] = 'Windows 10 Pro'\n",
    "data.loc[data['OS'].str.contains('11') & ~data['OS'].str.contains('pro', case=False), 'OS'] = 'Windows 11 Home'\n",
    "data.loc[data['OS'].str.contains('11') & data['OS'].str.contains('pro', case=False), 'OS'] = 'Windows 11 Pro'\n",
    "# set OS to Windows if it contains Windows but not 10 or 11\n",
    "data.loc[data['OS'].str.lower().str.contains('windows') & ~data['OS'].str.contains('10|11'), 'OS'] = 'Windows(Other)'\n",
    "# set OS to other if it contains anything other than Windows or Chrome, Mac, or Linux\n",
    "data.loc[~data['OS'].str.lower().str.contains('windows|chrome|mac|linux'), 'OS'] = 'Other'\n",
    "data.loc[data['OS'].str.lower().str.contains('mac'), 'OS'] = 'Mac OS'\n",
    "data['OS'].value_counts()\n",
    "\n"
   ]
  },
  {
   "cell_type": "code",
   "execution_count": 13,
   "metadata": {},
   "outputs": [],
   "source": [
    "data['harddisk'].fillna('unknown', inplace=True)\n",
    "#convert the harddisk_gb column to float\n",
    "data['harddisk_gb'] = pd.to_numeric(data['harddisk'], errors='coerce')\n",
    "data.loc[data['harddisk'].str.contains('MB'), 'harddisk_gb'] = data.loc[data['harddisk'].str.contains('MB'), 'harddisk'].str.replace('MB', '').astype(float) / 1000\n",
    "data.loc[data['harddisk'].str.contains('TB'), 'harddisk_gb'] = data.loc[data['harddisk'].str.contains('TB'), 'harddisk'].str.replace('TB', '').astype(float) * 1000\n",
    "data.loc[data['harddisk'].str.contains('GB'), 'harddisk_gb'] = data.loc[data['harddisk'].str.contains('GB'), 'harddisk'].str.replace('GB', '').astype(float)\n",
    "# set the harddisk_gb column to nan if the harddisk column contains unknown\n",
    "data.loc[data['harddisk'].str.contains('unknown'), 'harddisk_gb'] = np.nan\n",
    "\n",
    "data = data.drop('harddisk', axis=1)\n",
    "\n"
   ]
  },
  {
   "cell_type": "code",
   "execution_count": 14,
   "metadata": {},
   "outputs": [],
   "source": [
    "#cpu, cpu_speed\n",
    "data['cpu'].fillna('unknown', inplace=True)\n",
    "data['cpu'] = data['cpu'].str.lower().str.replace('_', ' ')\n",
    "data.loc[data['cpu'].str.contains('athlon'), 'cpu'] = 'athalon' \n",
    "mfr_model = {\n",
    "    'intel': ['i3', 'i5', 'i7', 'i9', 'pentium', 'celeron', 'atom', 'xeon', 'core 2 duo', 'core m', 'core 2', 'core duo'],\n",
    "    'amd': ['ryzen', 'athlon', 'sempron', 'opteron', 'amd r', 'amd a', 'a4', 'a6', 'a8', 'a9', 'a10', 'a12', 'a13', 'e2' , 'a-series'],\n",
    "    'apple': ['m1 max', 'm1','m2 max', 'm2' ],\n",
    "    'qualcomm': ['snapdragon'],\n",
    "    'samsung': ['exynos'],\n",
    "    'mediatek': ['helio', 'mt8183', 'mt8127'],\n",
    "    'rockchip': ['rk'],\n",
    "    'huawei': ['kirin'],\n",
    "    'motorola': ['68000'],\n",
    "}\n",
    "# for each key in the mfr_model dictionary, if the cpu column contains the key, set the cpu_mfr column to the key\n",
    "for mfr, models in mfr_model.items():\n",
    "    for model in models:\n",
    "        data.loc[data['cpu'].str.contains(model), 'cpu_mfr'] = mfr\n",
    "        data.loc[data['cpu'].str.contains(model), 'cpu'] = model\n",
    "\n",
    "cpus = data['cpu'].value_counts()\n",
    "# cpus_with_less_than_ten = cpus[cpus < 10].index.tolist()\n",
    "data.loc[data['cpu'].str.contains('unknown|others'), 'cpu'] = np.nan\n"
   ]
  },
  {
   "cell_type": "code",
   "execution_count": 15,
   "metadata": {},
   "outputs": [],
   "source": [
    "# data['cpu_speed'].fillna('unknown',inplace=True)\n",
    "data['cpu_speed'] = data['cpu_speed'].str.replace('GHz', '')\n",
    "data['cpu_speed'] = data['cpu_speed'].str.replace('Hz', '')\n",
    "data['cpu_speed'] = data['cpu_speed'].str.replace('MHz', '')\n",
    "data['cpu_speed'] = pd.to_numeric(data['cpu_speed'], errors='coerce')\n",
    "# assume that any speeds above 100 are in MHz and divide by 1000 \n",
    "data.loc[data['cpu_speed'] > 1000, 'cpu_speed'] = data.loc[data['cpu_speed'] > 1000, 'cpu_speed'] / 1000"
   ]
  },
  {
   "cell_type": "code",
   "execution_count": 16,
   "metadata": {},
   "outputs": [
    {
     "data": {
      "text/plain": [
       "rating\n",
       "4.0    1060\n",
       "5.0     779\n",
       "1.0     223\n",
       "3.0      88\n",
       "2.0      20\n",
       "Name: count, dtype: int64"
      ]
     },
     "execution_count": 16,
     "metadata": {},
     "output_type": "execute_result"
    }
   ],
   "source": [
    "# round ratings and convert them to a categorical value (string)\n",
    "data['rating'] = data['rating'].round().astype(str)\n",
    "data.loc[data['rating'].str.contains('nan'), 'rating'] = np.nan\n",
    "data.rating.value_counts()"
   ]
  },
  {
   "cell_type": "code",
   "execution_count": 17,
   "metadata": {},
   "outputs": [
    {
     "name": "stdout",
     "output_type": "stream",
     "text": [
      "brand 17 object\n",
      "model 1079 object\n",
      "screen_size 35 object\n",
      "color 186 object\n",
      "cpu 32 object\n",
      "OS 9 object\n",
      "cpu_speed 48 float64\n",
      "rating 5 object\n",
      "price 1858 float64\n",
      "backlit_keyboard 1 bool\n",
      "pen 2 bool\n",
      "anti_glare 1 bool\n",
      "memory_card_slot 1 bool\n",
      "hd_audio 1 bool\n",
      "numeric_keypad 1 bool\n",
      "fingerprint_reader 1 bool\n",
      "thin_bezel 1 bool\n",
      "bluetooth 2 bool\n",
      "ram_gb 18 float64\n",
      "graphics_type 2 object\n",
      "graphics_mfr 5 object\n",
      "harddisk_gb 34 float64\n",
      "cpu_mfr 7 object\n"
     ]
    },
    {
     "data": {
      "text/html": [
       "<div>\n",
       "<style scoped>\n",
       "    .dataframe tbody tr th:only-of-type {\n",
       "        vertical-align: middle;\n",
       "    }\n",
       "\n",
       "    .dataframe tbody tr th {\n",
       "        vertical-align: top;\n",
       "    }\n",
       "\n",
       "    .dataframe thead th {\n",
       "        text-align: right;\n",
       "    }\n",
       "</style>\n",
       "<table border=\"1\" class=\"dataframe\">\n",
       "  <thead>\n",
       "    <tr style=\"text-align: right;\">\n",
       "      <th></th>\n",
       "      <th>cpu_speed</th>\n",
       "      <th>price</th>\n",
       "      <th>ram_gb</th>\n",
       "      <th>harddisk_gb</th>\n",
       "    </tr>\n",
       "  </thead>\n",
       "  <tbody>\n",
       "    <tr>\n",
       "      <th>count</th>\n",
       "      <td>1517.000000</td>\n",
       "      <td>4441.000000</td>\n",
       "      <td>4380.000000</td>\n",
       "      <td>3866.000000</td>\n",
       "    </tr>\n",
       "    <tr>\n",
       "      <th>mean</th>\n",
       "      <td>1.656447</td>\n",
       "      <td>1189.330016</td>\n",
       "      <td>23.968277</td>\n",
       "      <td>897.540542</td>\n",
       "    </tr>\n",
       "    <tr>\n",
       "      <th>std</th>\n",
       "      <td>0.844575</td>\n",
       "      <td>826.022711</td>\n",
       "      <td>17.323365</td>\n",
       "      <td>843.029614</td>\n",
       "    </tr>\n",
       "    <tr>\n",
       "      <th>min</th>\n",
       "      <td>0.900000</td>\n",
       "      <td>57.990000</td>\n",
       "      <td>0.064000</td>\n",
       "      <td>0.032000</td>\n",
       "    </tr>\n",
       "    <tr>\n",
       "      <th>25%</th>\n",
       "      <td>1.100000</td>\n",
       "      <td>589.990000</td>\n",
       "      <td>16.000000</td>\n",
       "      <td>512.000000</td>\n",
       "    </tr>\n",
       "    <tr>\n",
       "      <th>50%</th>\n",
       "      <td>1.200000</td>\n",
       "      <td>999.990000</td>\n",
       "      <td>16.000000</td>\n",
       "      <td>1000.000000</td>\n",
       "    </tr>\n",
       "    <tr>\n",
       "      <th>75%</th>\n",
       "      <td>1.800000</td>\n",
       "      <td>1612.990000</td>\n",
       "      <td>32.000000</td>\n",
       "      <td>1000.000000</td>\n",
       "    </tr>\n",
       "    <tr>\n",
       "      <th>max</th>\n",
       "      <td>9.120000</td>\n",
       "      <td>11261.240000</td>\n",
       "      <td>128.000000</td>\n",
       "      <td>8000.000000</td>\n",
       "    </tr>\n",
       "  </tbody>\n",
       "</table>\n",
       "</div>"
      ],
      "text/plain": [
       "         cpu_speed         price       ram_gb  harddisk_gb\n",
       "count  1517.000000   4441.000000  4380.000000  3866.000000\n",
       "mean      1.656447   1189.330016    23.968277   897.540542\n",
       "std       0.844575    826.022711    17.323365   843.029614\n",
       "min       0.900000     57.990000     0.064000     0.032000\n",
       "25%       1.100000    589.990000    16.000000   512.000000\n",
       "50%       1.200000    999.990000    16.000000  1000.000000\n",
       "75%       1.800000   1612.990000    32.000000  1000.000000\n",
       "max       9.120000  11261.240000   128.000000  8000.000000"
      ]
     },
     "execution_count": 17,
     "metadata": {},
     "output_type": "execute_result"
    }
   ],
   "source": [
    "for col in data.columns:\n",
    "    print(col, data[col].nunique(), data[col].dtype)\n",
    "\n",
    "data.describe()"
   ]
  },
  {
   "cell_type": "markdown",
   "metadata": {},
   "source": [
    "## feature importance analysis"
   ]
  },
  {
   "cell_type": "code",
   "execution_count": 18,
   "metadata": {},
   "outputs": [
    {
     "data": {
      "text/plain": [
       "<Axes: xlabel='price', ylabel='Count'>"
      ]
     },
     "execution_count": 18,
     "metadata": {},
     "output_type": "execute_result"
    },
    {
     "data": {
      "image/png": "[encoded data removed]",
      "text/plain": [
       "<Figure size 640x480 with 1 Axes>"
      ]
     },
     "metadata": {},
     "output_type": "display_data"
    }
   ],
   "source": [
    "sns.histplot(data['price'])\n"
   ]
  },
  {
   "cell_type": "code",
   "execution_count": 19,
   "metadata": {},
   "outputs": [
    {
     "data": {
      "text/plain": [
       "cpu_speed  cpu_speed      1.000000\n",
       "           price          0.521079\n",
       "price      ram_gb         0.430854\n",
       "ram_gb     harddisk_gb    0.367278\n",
       "price      harddisk_gb    0.331461\n",
       "cpu_speed  ram_gb         0.261671\n",
       "           harddisk_gb   -0.068584\n",
       "dtype: float64"
      ]
     },
     "execution_count": 19,
     "metadata": {},
     "output_type": "execute_result"
    },
    {
     "data": {
      "image/png": "[encoded data removed]",
      "text/plain": [
       "<Figure size 900x600 with 2 Axes>"
      ]
     },
     "metadata": {},
     "output_type": "display_data"
    }
   ],
   "source": [
    "numeric_columns = list(data.dtypes[ data.dtypes == (float)].index)\n",
    "numeric_df  = data[numeric_columns]\n",
    "plt.figure(figsize=(9, 6))\n",
    "sns.heatmap(numeric_df.corr(), annot=True, cmap='summer')\n",
    "numeric_df.corr().unstack().sort_values(ascending=False).drop_duplicates()\n"
   ]
  },
  {
   "cell_type": "markdown",
   "metadata": {},
   "source": [
    "From the correlation matrix it seems clear that RAM size and CPU speed are most highly correlated with price. "
   ]
  },
  {
   "cell_type": "code",
   "execution_count": 20,
   "metadata": {},
   "outputs": [
    {
     "data": {
      "text/plain": [
       "<Axes: >"
      ]
     },
     "execution_count": 20,
     "metadata": {},
     "output_type": "execute_result"
    },
    {
     "data": {
      "image/png": "[encoded data removed]",
      "text/plain": [
       "<Figure size 900x600 with 2 Axes>"
      ]
     },
     "metadata": {},
     "output_type": "display_data"
    }
   ],
   "source": [
    "categorical_columns = list(data.dtypes[ data.dtypes == (object)].index)\n",
    "\n",
    "df = data.copy()\n",
    "for col in categorical_columns:\n",
    "    df[col].fillna('unknown',inplace=True)\n",
    "for col in numeric_columns:\n",
    "    df[col].fillna(-1,inplace=True)\n",
    "from sklearn.metrics import mutual_info_score\n",
    "mutual_info = {}\n",
    "for col1 in categorical_columns:\n",
    "    row = {}\n",
    "    for col2 in categorical_columns:\n",
    "        if col1 == col2:\n",
    "            row[col2] = 1\n",
    "        else:\n",
    "            row[col2] = mutual_info_score(df[col1], df[col2])\n",
    "    mutual_info[col1] = row\n",
    "\n",
    "mutual_info_df = pd.DataFrame(mutual_info)\n",
    "\n",
    "plt.figure(figsize=(9, 6))\n",
    "sns.heatmap(mutual_info_df, annot=True, cmap='summer')\n",
    "        \n"
   ]
  },
  {
   "cell_type": "markdown",
   "metadata": {},
   "source": [
    "There seems to be a strong connection between CPU and brand, as well as rating and brand"
   ]
  },
  {
   "cell_type": "markdown",
   "metadata": {},
   "source": [
    "## Model selection process and parameter tuning\n"
   ]
  },
  {
   "cell_type": "code",
   "execution_count": 21,
   "metadata": {},
   "outputs": [],
   "source": [
    "df = data.copy()\n",
    "for feature in special_feature_column_names:\n",
    "    df[feature] = df[feature].astype(str)\n",
    "\n",
    "for col in categorical_columns:\n",
    "    df[col].fillna('unknown',inplace=True)\n",
    "for col in numeric_columns:\n",
    "    df[col].fillna(0,inplace=True)\n",
    "    # filling with the mean actually made the model worse\n",
    "    # df[col].fillna(df[col].mean(),inplace=True)\n",
    "    \n",
    "\n",
    "df.reset_index(drop=True, inplace=True)\n"
   ]
  },
  {
   "cell_type": "code",
   "execution_count": 22,
   "metadata": {},
   "outputs": [],
   "source": [
    "from sklearn.model_selection import train_test_split\n",
    "from sklearn.linear_model import LinearRegression\n",
    "from sklearn.feature_extraction import DictVectorizer\n",
    "from sklearn.metrics import mean_squared_error,r2_score\n",
    "\n",
    "def train_linear_regression(df_train, y_train, C=1.0):\n",
    "    dicts = df_train.to_dict(orient='records')\n",
    "    dv = DictVectorizer()\n",
    "    X_train = dv.fit_transform(dicts)\n",
    "    \n",
    "    model = LinearRegression()\n",
    "    model.fit(X_train, y_train)\n",
    "    \n",
    "    return dv, model\n",
    "\n",
    "def predict(df_val, dv, model):\n",
    "    dicts = df_val.to_dict(orient='records')\n",
    "    X_val = dv.transform(dicts)\n",
    "    \n",
    "    y_pred = model.predict(X_val)\n",
    "    \n",
    "    return y_pred\n",
    "\n",
    "# split data into train/val/test sets\n",
    "def prepare(df):\n",
    "    df = df.reset_index(drop=True)\n",
    "    y = df['price'].values\n",
    "    df = df.drop('price', axis=1)\n",
    "    return df, y\n",
    "\n",
    "\n",
    "\n"
   ]
  },
  {
   "cell_type": "code",
   "execution_count": 23,
   "metadata": {},
   "outputs": [],
   "source": [
    "# I tried various seed values and C values and these are the best results I got\n",
    "# seed = 65\n",
    "# C = 1.0\n",
    "# here are some of the other seeds I tried and their rmse values\n",
    "# 65\t392.095953\n",
    "# 29\t401.938827\n",
    "# 20\t413.847958\n",
    "# 18\t418.447273\n",
    "# 85\t418.933517\n",
    "# 25\t419.334450\n",
    "# 59\t420.110480\n",
    "# 39\t420.604855\n",
    "# 56\t423.454367\n",
    "# 16\t424.669804\n",
    "\n",
    "\n",
    "# scores = {}\n",
    "SEED = 65\n",
    "C= 1.0\n",
    "\n",
    "df_train_full, df_test = train_test_split(df, test_size=0.2,random_state=SEED)\n",
    "df_train, df_val = train_test_split(df_train_full, test_size=0.25,random_state=SEED)\n",
    "\n",
    "df_train_full, y_train_full = prepare(df_train_full)\n",
    "df_train, y_train = prepare(df_train)\n",
    "df_val, y_val = prepare(df_val)\n",
    "df_test, y_test = prepare(df_test)\n",
    "\n",
    "assert len(df) == (len(df_train) + len(df_val) + len(df_test))"
   ]
  },
  {
   "cell_type": "code",
   "execution_count": 24,
   "metadata": {},
   "outputs": [],
   "source": [
    "def remove_irrelevant_columns(df):\n",
    "    #remove the color column since I don't feel like it contributes heavily to price\n",
    "    df = df.drop('color', axis=1)\n",
    "    #remove the model column since it is too distinct to generalize over \n",
    "    df = df.drop('model', axis=1)\n",
    "    \n",
    "    df = df.drop('cpu_speed', axis=1)\n",
    "    df = df.drop('rating', axis=1)\n",
    "\n",
    "    # get all the columns that start with sf_ and remove them \n",
    "    sf_columns = [col for col in df.columns if col.startswith('sf_')]\n",
    "    df = df.drop(sf_columns, axis=1)\n",
    "    return df\n",
    "\n",
    "df_train = remove_irrelevant_columns(df_train)\n",
    "df_train_full = remove_irrelevant_columns(df_train_full)"
   ]
  },
  {
   "cell_type": "code",
   "execution_count": 25,
   "metadata": {},
   "outputs": [
    {
     "data": {
      "text/plain": [
       "384.8962966512167"
      ]
     },
     "execution_count": 25,
     "metadata": {},
     "output_type": "execute_result"
    }
   ],
   "source": [
    "dv, model = train_linear_regression(df_train,y_train,C=C)\n",
    "y_pred = predict(df_val,dv,model)\n",
    "\n",
    "rmse = mean_squared_error(y_val,y_pred,squared=False)\n",
    "rmse"
   ]
  },
  {
   "cell_type": "code",
   "execution_count": 26,
   "metadata": {},
   "outputs": [
    {
     "name": "stdout",
     "output_type": "stream",
     "text": [
      "0.001 RMSE 384.8962966512167\n",
      "0.01 RMSE 384.8962966512167\n",
      "0.1 RMSE 384.8962966512167\n",
      "1 RMSE 384.8962966512167\n",
      "10 RMSE 384.8962966512167\n"
     ]
    }
   ],
   "source": [
    "# train for different values of C\n",
    "for C in [0.001, 0.01, 0.1, 1, 10]:\n",
    "    dv, model = train_linear_regression(df_train,y_train,C=C)\n",
    "    y_pred = predict(df_val,dv,model)\n",
    "\n",
    "    rmse = mean_squared_error(y_val,y_pred,squared=False)\n",
    "    print(f'{C} RMSE {rmse}')"
   ]
  },
  {
   "cell_type": "code",
   "execution_count": 27,
   "metadata": {},
   "outputs": [
    {
     "data": {
      "text/html": [
       "<div>\n",
       "<style scoped>\n",
       "    .dataframe tbody tr th:only-of-type {\n",
       "        vertical-align: middle;\n",
       "    }\n",
       "\n",
       "    .dataframe tbody tr th {\n",
       "        vertical-align: top;\n",
       "    }\n",
       "\n",
       "    .dataframe thead th {\n",
       "        text-align: right;\n",
       "    }\n",
       "</style>\n",
       "<table border=\"1\" class=\"dataframe\">\n",
       "  <thead>\n",
       "    <tr style=\"text-align: right;\">\n",
       "      <th></th>\n",
       "      <th>score</th>\n",
       "      <th>diff_from_original</th>\n",
       "    </tr>\n",
       "  </thead>\n",
       "  <tbody>\n",
       "    <tr>\n",
       "      <th>cpu</th>\n",
       "      <td>434.251529</td>\n",
       "      <td>-49.355232</td>\n",
       "    </tr>\n",
       "    <tr>\n",
       "      <th>brand</th>\n",
       "      <td>404.666371</td>\n",
       "      <td>-19.770075</td>\n",
       "    </tr>\n",
       "    <tr>\n",
       "      <th>harddisk_gb</th>\n",
       "      <td>402.309425</td>\n",
       "      <td>-17.413128</td>\n",
       "    </tr>\n",
       "    <tr>\n",
       "      <th>ram_gb</th>\n",
       "      <td>397.649889</td>\n",
       "      <td>-12.753592</td>\n",
       "    </tr>\n",
       "    <tr>\n",
       "      <th>graphics_type</th>\n",
       "      <td>395.969161</td>\n",
       "      <td>-11.072864</td>\n",
       "    </tr>\n",
       "    <tr>\n",
       "      <th>screen_size</th>\n",
       "      <td>393.240116</td>\n",
       "      <td>-8.343819</td>\n",
       "    </tr>\n",
       "    <tr>\n",
       "      <th>OS</th>\n",
       "      <td>392.951770</td>\n",
       "      <td>-8.055473</td>\n",
       "    </tr>\n",
       "    <tr>\n",
       "      <th>graphics_mfr</th>\n",
       "      <td>388.427242</td>\n",
       "      <td>-3.530946</td>\n",
       "    </tr>\n",
       "    <tr>\n",
       "      <th>bluetooth</th>\n",
       "      <td>385.808038</td>\n",
       "      <td>-0.911742</td>\n",
       "    </tr>\n",
       "    <tr>\n",
       "      <th>pen</th>\n",
       "      <td>385.782761</td>\n",
       "      <td>-0.886464</td>\n",
       "    </tr>\n",
       "    <tr>\n",
       "      <th>thin_bezel</th>\n",
       "      <td>385.067178</td>\n",
       "      <td>-0.170881</td>\n",
       "    </tr>\n",
       "    <tr>\n",
       "      <th>hd_audio</th>\n",
       "      <td>384.955470</td>\n",
       "      <td>-0.059174</td>\n",
       "    </tr>\n",
       "    <tr>\n",
       "      <th>numeric_keypad</th>\n",
       "      <td>384.955470</td>\n",
       "      <td>-0.059174</td>\n",
       "    </tr>\n",
       "    <tr>\n",
       "      <th>memory_card_slot</th>\n",
       "      <td>384.955470</td>\n",
       "      <td>-0.059174</td>\n",
       "    </tr>\n",
       "    <tr>\n",
       "      <th>anti_glare</th>\n",
       "      <td>384.954434</td>\n",
       "      <td>-0.058137</td>\n",
       "    </tr>\n",
       "    <tr>\n",
       "      <th>backlit_keyboard</th>\n",
       "      <td>384.954434</td>\n",
       "      <td>-0.058137</td>\n",
       "    </tr>\n",
       "    <tr>\n",
       "      <th>cpu_mfr</th>\n",
       "      <td>384.953373</td>\n",
       "      <td>-0.057077</td>\n",
       "    </tr>\n",
       "    <tr>\n",
       "      <th>fingerprint_reader</th>\n",
       "      <td>384.919741</td>\n",
       "      <td>-0.023444</td>\n",
       "    </tr>\n",
       "  </tbody>\n",
       "</table>\n",
       "</div>"
      ],
      "text/plain": [
       "                         score  diff_from_original\n",
       "cpu                 434.251529          -49.355232\n",
       "brand               404.666371          -19.770075\n",
       "harddisk_gb         402.309425          -17.413128\n",
       "ram_gb              397.649889          -12.753592\n",
       "graphics_type       395.969161          -11.072864\n",
       "screen_size         393.240116           -8.343819\n",
       "OS                  392.951770           -8.055473\n",
       "graphics_mfr        388.427242           -3.530946\n",
       "bluetooth           385.808038           -0.911742\n",
       "pen                 385.782761           -0.886464\n",
       "thin_bezel          385.067178           -0.170881\n",
       "hd_audio            384.955470           -0.059174\n",
       "numeric_keypad      384.955470           -0.059174\n",
       "memory_card_slot    384.955470           -0.059174\n",
       "anti_glare          384.954434           -0.058137\n",
       "backlit_keyboard    384.954434           -0.058137\n",
       "cpu_mfr             384.953373           -0.057077\n",
       "fingerprint_reader  384.919741           -0.023444"
      ]
     },
     "execution_count": 27,
     "metadata": {},
     "output_type": "execute_result"
    }
   ],
   "source": [
    "scores = {}\n",
    "for feature in df_train.columns:\n",
    "    df_train_small = df_train.drop([feature], axis=1)\n",
    "    dv, model = train_linear_regression(df_train_small,y_train,C=C)\n",
    "    y_pred = predict(df_val,dv,model)\n",
    "\n",
    "    new_rmse = mean_squared_error(y_val,y_pred,squared=False)\n",
    "    scores[feature] = {\n",
    "        'score': new_rmse,\n",
    "        'diff_from_original': rmse - new_rmse\n",
    "    }\n",
    "    \n",
    "scores_df = pd.DataFrame(scores).T\n",
    "scores_df.sort_values(by='diff_from_original', ascending=True)"
   ]
  },
  {
   "cell_type": "code",
   "execution_count": 28,
   "metadata": {},
   "outputs": [
    {
     "name": "stdout",
     "output_type": "stream",
     "text": [
      "0 394.174\n",
      "0.01 394.168\n",
      "0.1 394.122\n",
      "1 393.674\n",
      "10 391.44\n",
      "20 390.019\n",
      "30 389.716\n",
      "40 390.072\n",
      "50 390.821\n",
      "100 398.343\n"
     ]
    }
   ],
   "source": [
    "\n",
    "from sklearn.linear_model import Ridge\n",
    "\n",
    "dicts = df_train.to_dict(orient='records')\n",
    "dv = DictVectorizer()\n",
    "X_train = dv.fit_transform(dicts)\n",
    "for a in [0, 0.01, 0.1, 1, 10,20,30,40,50,100]:\n",
    "    model = Ridge(alpha=a)\n",
    "    model.fit(X_train, y_train)\n",
    "    X_val = dv.transform(df_val.to_dict(orient='records'))\n",
    "    y_pred = model.predict(X_val)\n",
    "    \n",
    "    score = mean_squared_error(y_val, y_pred, squared=False)\n",
    "    \n",
    "    print(a, round(score, 3))"
   ]
  },
  {
   "cell_type": "markdown",
   "metadata": {},
   "source": [
    "A regular Linear Regression Model is better with an RMSE of 360 vs a Ridge of 389"
   ]
  },
  {
   "cell_type": "code",
   "execution_count": 29,
   "metadata": {},
   "outputs": [],
   "source": [
    "df = data.copy()\n",
    "\n",
    "categorical_columns = list(data.dtypes[ data.dtypes == (object)].index)\n",
    "numeric_columns = list(data.dtypes[ data.dtypes == (float)].index)\n",
    "\n",
    "\n",
    "for col in categorical_columns:\n",
    "    df[col].fillna('unknown',inplace=True)\n",
    "for col in numeric_columns:\n",
    "    df[col].fillna(0,inplace=True)\n",
    "    \n",
    "df.reset_index(drop=True, inplace=True)\n",
    "\n",
    "SEED = 65\n",
    "\n",
    "df_train_full, df_test = train_test_split(df, test_size=0.2,random_state=SEED)\n",
    "df_train, df_val = train_test_split(df_train_full, test_size=0.25,random_state=SEED)\n",
    "\n",
    "df_train_full, y_train_full = prepare(df_train_full)\n",
    "df_train, y_train = prepare(df_train)\n",
    "df_val, y_val = prepare(df_val)\n",
    "df_test, y_test = prepare(df_test)\n",
    "\n",
    "assert len(df) == (len(df_train) + len(df_val) + len(df_test))"
   ]
  },
  {
   "cell_type": "markdown",
   "metadata": {},
   "source": [
    "Use Grid Search to find the best hyperparameters for XGBoost"
   ]
  },
  {
   "cell_type": "code",
   "execution_count": 30,
   "metadata": {},
   "outputs": [
    {
     "ename": "NameError",
     "evalue": "name 'xgb' is not defined",
     "output_type": "error",
     "traceback": [
      "\u001b[0;31m---------------------------------------------------------------------------\u001b[0m",
      "\u001b[0;31mNameError\u001b[0m                                 Traceback (most recent call last)",
      "\u001b[1;32m/Users/tzvifriedman/dev/MLZoomCampSolutions/midterm/notebook.ipynb Cell 35\u001b[0m line \u001b[0;36m1\n\u001b[1;32m      <a href='vscode-notebook-cell:/Users/tzvifriedman/dev/MLZoomCampSolutions/midterm/notebook.ipynb#X46sZmlsZQ%3D%3D?line=3'>4</a>\u001b[0m param_grid \u001b[39m=\u001b[39m {\n\u001b[1;32m      <a href='vscode-notebook-cell:/Users/tzvifriedman/dev/MLZoomCampSolutions/midterm/notebook.ipynb#X46sZmlsZQ%3D%3D?line=4'>5</a>\u001b[0m     \u001b[39m'\u001b[39m\u001b[39mmax_depth\u001b[39m\u001b[39m'\u001b[39m: [\u001b[39m6\u001b[39m,\u001b[39m7\u001b[39m,\u001b[39m8\u001b[39m,\u001b[39m9\u001b[39m,\u001b[39m10\u001b[39m,\u001b[39m11\u001b[39m],\n\u001b[1;32m      <a href='vscode-notebook-cell:/Users/tzvifriedman/dev/MLZoomCampSolutions/midterm/notebook.ipynb#X46sZmlsZQ%3D%3D?line=5'>6</a>\u001b[0m     \u001b[39m'\u001b[39m\u001b[39mlearning_rate\u001b[39m\u001b[39m'\u001b[39m: [\u001b[39m0.01\u001b[39m, \u001b[39m0.1\u001b[39m, \u001b[39m0.2\u001b[39m],\n\u001b[0;32m   (...)\u001b[0m\n\u001b[1;32m      <a href='vscode-notebook-cell:/Users/tzvifriedman/dev/MLZoomCampSolutions/midterm/notebook.ipynb#X46sZmlsZQ%3D%3D?line=8'>9</a>\u001b[0m     \u001b[39m'\u001b[39m\u001b[39mmin_child_weight\u001b[39m\u001b[39m'\u001b[39m: [\u001b[39m0.4\u001b[39m,\u001b[39m0.5\u001b[39m,\u001b[39m1\u001b[39m, \u001b[39m5\u001b[39m],\n\u001b[1;32m     <a href='vscode-notebook-cell:/Users/tzvifriedman/dev/MLZoomCampSolutions/midterm/notebook.ipynb#X46sZmlsZQ%3D%3D?line=9'>10</a>\u001b[0m }\n\u001b[1;32m     <a href='vscode-notebook-cell:/Users/tzvifriedman/dev/MLZoomCampSolutions/midterm/notebook.ipynb#X46sZmlsZQ%3D%3D?line=11'>12</a>\u001b[0m \u001b[39m# Create an instance of XGBRegressor\u001b[39;00m\n\u001b[0;32m---> <a href='vscode-notebook-cell:/Users/tzvifriedman/dev/MLZoomCampSolutions/midterm/notebook.ipynb#X46sZmlsZQ%3D%3D?line=12'>13</a>\u001b[0m xgb_model \u001b[39m=\u001b[39m xgb\u001b[39m.\u001b[39mXGBRegressor()\n\u001b[1;32m     <a href='vscode-notebook-cell:/Users/tzvifriedman/dev/MLZoomCampSolutions/midterm/notebook.ipynb#X46sZmlsZQ%3D%3D?line=14'>15</a>\u001b[0m \u001b[39m# Create the grid search object\u001b[39;00m\n\u001b[1;32m     <a href='vscode-notebook-cell:/Users/tzvifriedman/dev/MLZoomCampSolutions/midterm/notebook.ipynb#X46sZmlsZQ%3D%3D?line=15'>16</a>\u001b[0m grid_search \u001b[39m=\u001b[39m GridSearchCV(estimator\u001b[39m=\u001b[39mxgb_model, param_grid\u001b[39m=\u001b[39mparam_grid, cv\u001b[39m=\u001b[39m\u001b[39m5\u001b[39m, scoring\u001b[39m=\u001b[39m\u001b[39m'\u001b[39m\u001b[39mneg_mean_squared_error\u001b[39m\u001b[39m'\u001b[39m)\n",
      "\u001b[0;31mNameError\u001b[0m: name 'xgb' is not defined"
     ]
    }
   ],
   "source": [
    "from sklearn.model_selection import GridSearchCV\n",
    "\n",
    "# Define the hyperparameter grid\n",
    "param_grid = {\n",
    "    'max_depth': [6,7,8,9,10,11],\n",
    "    'learning_rate': [0.01, 0.1, 0.2],\n",
    "    'subsample': [0.2,0.5, 0.8,1.0],\n",
    "    'colsample_bytree': [0.1,0.3,0.5],\n",
    "    'min_child_weight': [0.4,0.5,1, 5],\n",
    "}\n",
    "\n",
    "# Create an instance of XGBRegressor\n",
    "xgb_model = xgb.XGBRegressor()\n",
    "\n",
    "# Create the grid search object\n",
    "grid_search = GridSearchCV(estimator=xgb_model, param_grid=param_grid, cv=5, scoring='neg_mean_squared_error')\n",
    "\n",
    "# Fit the grid search object to the data\n",
    "grid_search.fit(X_train, y_train)\n",
    "\n",
    "# Get the best combination of hyperparameters\n",
    "best_params = grid_search.best_params_\n",
    "print(\"Best hyperparameters:\", best_params)\n",
    "\n",
    "# Train the model with the best hyperparameters\n",
    "best_xgb_model = xgb.XGBRegressor(**best_params)\n",
    "best_xgb_model.fit(X_train, y_train)\n",
    "\n",
    "# Make predictions on the test data\n",
    "y_pred = best_xgb_model.predict(X_val)\n",
    "\n",
    "# Evaluate the model's performance\n",
    "mse = mean_squared_error(y_val, y_pred,squared=False)\n",
    "print(\"Mean Squared Error:\", mse)\n",
    "# best_params = {'colsample_bytree': 0.5, 'learning_rate': 0.1, 'max_depth': 7, 'min_child_weight': 0.4, 'subsample': 0.2}"
   ]
  },
  {
   "cell_type": "code",
   "execution_count": null,
   "metadata": {},
   "outputs": [],
   "source": [
    "def parse_xgb_output(output):\n",
    "    results = []\n",
    "\n",
    "    for line in output.stdout.strip().split('\\n'):\n",
    "        it_line, train_line, val_line = line.split('\\t')\n",
    "\n",
    "        it = int(it_line.strip('[]'))\n",
    "        train = float(train_line.split(':')[1])\n",
    "        val = float(val_line.split(':')[1])\n",
    "\n",
    "        results.append((it, train, val))\n",
    "    \n",
    "    columns = ['num_iter', 'train_rmse', 'val_rmse']\n",
    "    df_results = pd.DataFrame(results, columns=columns)\n",
    "    return df_results"
   ]
  },
  {
   "cell_type": "code",
   "execution_count": null,
   "metadata": {},
   "outputs": [],
   "source": [
    "import xgboost as xgb\n",
    "\n",
    "\n",
    "features = dv.get_feature_names_out().tolist()\n",
    "X_val = dv.transform(df_val.to_dict('records'))\n",
    "dtrain = xgb.DMatrix(X_train, label=y_train, feature_names=features)\n",
    "dval = xgb.DMatrix(X_val, label=y_val, feature_names=features)\n",
    "watchlist = [(dtrain, 'train'), (dval, 'val')]"
   ]
  },
  {
   "cell_type": "code",
   "execution_count": null,
   "metadata": {},
   "outputs": [],
   "source": [
    "%%capture output\n",
    "xgb_params = {\n",
    "    'eta': 0.1, \n",
    "    'min_child_weight': 100,\n",
    "    \n",
    "    'objective': 'reg:squarederror',\n",
    "    'nthread': 8,\n",
    "    \n",
    "    'verbosity': 1,\n",
    "    **best_params\n",
    "}\n",
    "model = xgb.train(xgb_params, dtrain, num_boost_round=50, evals=watchlist)\n"
   ]
  },
  {
   "cell_type": "code",
   "execution_count": null,
   "metadata": {},
   "outputs": [
    {
     "name": "stdout",
     "output_type": "stream",
     "text": [
      "409.87763277947477\n"
     ]
    },
    {
     "data": {
      "text/plain": [
       "0.6799269276601688"
      ]
     },
     "execution_count": 611,
     "metadata": {},
     "output_type": "execute_result"
    },
    {
     "data": {
      "image/png": "[encoded data removed]",
      "text/plain": [
       "<Figure size 640x480 with 1 Axes>"
      ]
     },
     "metadata": {},
     "output_type": "display_data"
    }
   ],
   "source": [
    "df_score = parse_xgb_output(output)\n",
    "plt.plot(df_score.num_iter, df_score.train_rmse, label='train')\n",
    "plt.plot(df_score.num_iter, df_score.val_rmse, label='val')\n",
    "# plt.ylim(0, 500)\n",
    "plt.legend()\n",
    "val_predict = model.predict(dval)\n",
    "rmse = mean_squared_error(y_val, val_predict, squared=False)\n",
    "print(rmse)\n",
    "r2_score(y_val, val_predict)"
   ]
  },
  {
   "cell_type": "markdown",
   "metadata": {},
   "source": [
    "Validate against test dataset"
   ]
  },
  {
   "cell_type": "code",
   "execution_count": null,
   "metadata": {},
   "outputs": [
    {
     "name": "stdout",
     "output_type": "stream",
     "text": [
      "445.4707368095335\n"
     ]
    },
    {
     "data": {
      "text/plain": [
       "0.732690538617496"
      ]
     },
     "execution_count": 608,
     "metadata": {},
     "output_type": "execute_result"
    },
    {
     "data": {
      "image/png": "[encoded data removed]",
      "text/plain": [
       "<Figure size 640x480 with 1 Axes>"
      ]
     },
     "metadata": {},
     "output_type": "display_data"
    }
   ],
   "source": [
    "\n",
    "xgb_params = {\n",
    "    'eta': 0.1, \n",
    "    \n",
    "    'objective': 'reg:squarederror',\n",
    "    'nthread': 8,\n",
    "    \n",
    "    'verbosity': 1,\n",
    "    **best_params\n",
    "}\n",
    "\n",
    "X_full_train = dv.fit_transform(df_train_full.to_dict(orient='records'))\n",
    "features = dv.get_feature_names_out().tolist()\n",
    "\n",
    "dfulltrain = xgb.DMatrix(X_full_train, label=y_train_full, feature_names=features)\n",
    "X_test = dv.transform(df_test.to_dict(orient='records'))\n",
    "dtest = xgb.DMatrix(X_test, label=y_test, feature_names=features)\n",
    "model = xgb.train(xgb_params, dfulltrain, num_boost_round=70)\n",
    "\n",
    "test_predict = model.predict(dtest)\n",
    "\n",
    "sns.histplot(y_test, color='blue', alpha=0.5, bins=50)\n",
    "sns.histplot(test_predict, color='red', alpha=0.5, bins=50)\n",
    "rmse = mean_squared_error(y_test, test_predict, squared=False)\n",
    "print(rmse)\n",
    "r2_score(y_test, test_predict)"
   ]
  },
  {
   "cell_type": "code",
   "execution_count": null,
   "metadata": {},
   "outputs": [
    {
     "name": "stdout",
     "output_type": "stream",
     "text": [
      "402.6466288236133\n"
     ]
    },
    {
     "data": {
      "text/plain": [
       "0.7816143464271146"
      ]
     },
     "execution_count": 609,
     "metadata": {},
     "output_type": "execute_result"
    },
    {
     "data": {
      "image/png": "[encoded data removed]",
      "text/plain": [
       "<Figure size 640x480 with 1 Axes>"
      ]
     },
     "metadata": {},
     "output_type": "display_data"
    }
   ],
   "source": [
    "\n",
    "dv, model = train_linear_regression(df_train_full,y_train_full,C=C)\n",
    "test_predict = predict(df_test,dv,model)\n",
    "\n",
    "sns.histplot(y_test, color='blue', alpha=0.5, bins=50)\n",
    "sns.histplot(test_predict, color='red', alpha=0.5, bins=50)\n",
    "rmse = mean_squared_error(y_test, test_predict, squared=False)\n",
    "print(rmse)\n",
    "r2_score(y_test, test_predict)"
   ]
  },
  {
   "cell_type": "markdown",
   "metadata": {},
   "source": [
    "Normal Linear regression is the best overall model with a 403 on the test data set and an R2 of 0.78"
   ]
  }
 ],
 "metadata": {
  "kernelspec": {
   "display_name": "Python 3",
   "language": "python",
   "name": "python3"
  },
  "language_info": {
   "codemirror_mode": {
    "name": "ipython",
    "version": 3
   },
   "file_extension": ".py",
   "mimetype": "text/x-python",
   "name": "python",
   "nbconvert_exporter": "python",
   "pygments_lexer": "ipython3",
   "version": "3.11.4"
  }
 },
 "nbformat": 4,
 "nbformat_minor": 2
}
