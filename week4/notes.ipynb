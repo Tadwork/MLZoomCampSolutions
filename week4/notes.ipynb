{
 "cells": [
  {
   "cell_type": "markdown",
   "metadata": {},
   "source": [
    "## Understanding model accuracy\n",
    "- It isn't enough to understand how many cases the model gets correct since a dummy model will be correct some % of the time as well\n",
    "- Precision = Predict =  tells us how many positive values were correct from the set of predictions (True and False Positive values)\n",
    "- Recall  = Real =True Positive / TP + False Negative how many were predicted right\n",
    "- ROC = Receiver Operating Characteristic, is the ratio of FPR to TPR \n",
    "- FPR = FP / FP + TN\n",
    "- TPR =  Recall = TP/TP+FN\n",
    "\n"
   ]
  }
 ],
 "metadata": {
  "kernelspec": {
   "display_name": "Python 3",
   "language": "python",
   "name": "python3"
  },
  "language_info": {
   "name": "python",
   "version": "3.10.9"
  },
  "orig_nbformat": 4
 },
 "nbformat": 4,
 "nbformat_minor": 2
}
