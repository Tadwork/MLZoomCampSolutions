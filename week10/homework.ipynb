{
 "cells": [
  {
   "cell_type": "markdown",
   "metadata": {},
   "source": [
    "Go to the `course-zoomcamp/cohorts/2023/05-deployment/homework` folder and \n",
    "execute the following:\n",
    "\n",
    "```bash\n",
    "docker build -t zoomcamp-model:hw10 .\n",
    "```\n",
    "\n",
    "## Question 1\n",
    "\n",
    "Run it to test that it's working locally:\n",
    "\n",
    "```bash\n",
    "docker run -it --rm -p 9696:9696 zoomcamp-model:hw10\n",
    "```"
   ]
  },
  {
   "cell_type": "code",
   "execution_count": 43,
   "metadata": {},
   "outputs": [
    {
     "name": "stdout",
     "output_type": "stream",
     "text": [
      "{'get_credit': True, 'get_credit_probability': 0.726936946355423}\n"
     ]
    }
   ],
   "source": [
    "import requests\n",
    "\n",
    "\n",
    "url = \"http://localhost:9696/predict\"\n",
    "\n",
    "client = {\"job\": \"retired\", \"duration\": 445, \"poutcome\": \"success\"}\n",
    "response = requests.post(url, json=client).json()\n",
    "\n",
    "print(response)"
   ]
  },
  {
   "cell_type": "markdown",
   "metadata": {},
   "source": [
    "## Question 2\n",
    "\n",
    "What's the version of `kind` that you have? \n",
    "\n",
    "Use `kind --version` to find out."
   ]
  },
  {
   "cell_type": "code",
   "execution_count": 2,
   "metadata": {},
   "outputs": [
    {
     "name": "stdout",
     "output_type": "stream",
     "text": [
      "kind version 0.20.0\n"
     ]
    }
   ],
   "source": [
    "! kind --version"
   ]
  },
  {
   "cell_type": "markdown",
   "metadata": {},
   "source": [
    "## Question 3\n",
    "Now let's create a cluster with `kind`:\n",
    "\n",
    "```bash\n",
    "kind create cluster\n",
    "```\n",
    "\n",
    "Now let's test if everything works. Use `kubectl` to get the list of running services. \n",
    "\n",
    "What's `CLUSTER-IP` of the service that is already running there? \n"
   ]
  },
  {
   "cell_type": "code",
   "execution_count": 14,
   "metadata": {},
   "outputs": [
    {
     "name": "stdout",
     "output_type": "stream",
     "text": [
      "NAME         TYPE        CLUSTER-IP   EXTERNAL-IP   PORT(S)   AGE\n",
      "kubernetes   ClusterIP   10.96.0.1    <none>        443/TCP   4m15s\n"
     ]
    }
   ],
   "source": [
    "! kubectl get services"
   ]
  },
  {
   "cell_type": "markdown",
   "metadata": {},
   "source": [
    "## Question 4\n",
    "\n",
    "To be able to use the docker image we previously created (`zoomcamp-model:hw10`),\n",
    "we need to register it with `kind`.\n",
    "\n",
    "What's the command we need to run for that?\n",
    "\n",
    "* `kind create cluster`\n",
    "* `kind build node-image`\n",
    "* `kind load docker-image`\n",
    "* `kubectl apply`"
   ]
  },
  {
   "cell_type": "code",
   "execution_count": 16,
   "metadata": {},
   "outputs": [
    {
     "name": "stdout",
     "output_type": "stream",
     "text": [
      "Image: \"zoomcamp-model:hw10\" with ID \"sha256:133dcabd15497e4ec9b5f93b4203c60e890c9d9e696747864746fbb027368e64\" not yet present on node \"kind-control-plane\", loading...\n"
     ]
    }
   ],
   "source": [
    "!kind load docker-image zoomcamp-model:hw10"
   ]
  },
  {
   "cell_type": "markdown",
   "metadata": {},
   "source": [
    "Replace `<Image>`, `<Memory>`, `<CPU>`, `<Port>` with the correct values.\n",
    "\n",
    "What is the value for `<Port>`?"
   ]
  },
  {
   "cell_type": "code",
   "execution_count": 23,
   "metadata": {},
   "outputs": [
    {
     "name": "stdout",
     "output_type": "stream",
     "text": [
      "deployment.apps/credit unchanged\n"
     ]
    }
   ],
   "source": [
    "! kubectl apply -f deployment.yaml"
   ]
  },
  {
   "cell_type": "markdown",
   "metadata": {},
   "source": [
    "Apply the deployment.yaml using the appropriate command and get a list of running Pods. \n",
    "You can see one running Pod."
   ]
  },
  {
   "cell_type": "code",
   "execution_count": 44,
   "metadata": {},
   "outputs": [
    {
     "name": "stdout",
     "output_type": "stream",
     "text": [
      "NAME                      READY   STATUS    RESTARTS   AGE\n",
      "credit-6c56c875d7-sd92j   1/1     Running   0          3m55s\n"
     ]
    }
   ],
   "source": [
    "! kubectl get pods"
   ]
  },
  {
   "cell_type": "code",
   "execution_count": 45,
   "metadata": {},
   "outputs": [
    {
     "name": "stdout",
     "output_type": "stream",
     "text": [
      "Name:             credit-6c56c875d7-sd92j\n",
      "Namespace:        default\n",
      "Priority:         0\n",
      "Service Account:  default\n",
      "Node:             kind-control-plane/172.18.0.2\n",
      "Start Time:       Tue, 28 Nov 2023 14:14:47 -0500\n",
      "Labels:           app=credit\n",
      "                  pod-template-hash=6c56c875d7\n",
      "Annotations:      <none>\n",
      "Status:           Running\n",
      "IP:               10.244.0.8\n",
      "IPs:\n",
      "  IP:           10.244.0.8\n",
      "Controlled By:  ReplicaSet/credit-6c56c875d7\n",
      "Containers:\n",
      "  credit:\n",
      "    Container ID:   containerd://33fea79c8b50168f27208f99fd2e0c6e4cbe9db0c10cb2e8966dbe8b43bdddd3\n",
      "    Image:          zoomcamp-model:hw10\n",
      "    Image ID:       docker.io/library/import-2023-11-28@sha256:9647035ad600718c6e11f9a3bd8ef6a2e0c79d3fbcf190d412eb4583089c3e68\n",
      "    Port:           9696/TCP\n",
      "    Host Port:      0/TCP\n",
      "    State:          Running\n",
      "      Started:      Tue, 28 Nov 2023 14:14:48 -0500\n",
      "    Ready:          True\n",
      "    Restart Count:  0\n",
      "    Limits:\n",
      "      cpu:     512m\n",
      "      memory:  512Mi\n",
      "    Requests:\n",
      "      cpu:        100m\n",
      "      memory:     64Mi\n",
      "    Environment:  <none>\n",
      "    Mounts:\n",
      "      /var/run/secrets/kubernetes.io/serviceaccount from kube-api-access-tpvp4 (ro)\n",
      "Conditions:\n",
      "  Type              Status\n",
      "  Initialized       True \n",
      "  Ready             True \n",
      "  ContainersReady   True \n",
      "  PodScheduled      True \n",
      "Volumes:\n",
      "  kube-api-access-tpvp4:\n",
      "    Type:                    Projected (a volume that contains injected data from multiple sources)\n",
      "    TokenExpirationSeconds:  3607\n",
      "    ConfigMapName:           kube-root-ca.crt\n",
      "    ConfigMapOptional:       <nil>\n",
      "    DownwardAPI:             true\n",
      "QoS Class:                   Burstable\n",
      "Node-Selectors:              <none>\n",
      "Tolerations:                 node.kubernetes.io/not-ready:NoExecute op=Exists for 300s\n",
      "                             node.kubernetes.io/unreachable:NoExecute op=Exists for 300s\n",
      "Events:\n",
      "  Type    Reason     Age    From               Message\n",
      "  ----    ------     ----   ----               -------\n",
      "  Normal  Scheduled  4m17s  default-scheduler  Successfully assigned default/credit-6c56c875d7-sd92j to kind-control-plane\n",
      "  Normal  Pulled     4m17s  kubelet            Container image \"zoomcamp-model:hw10\" already present on machine\n",
      "  Normal  Created    4m16s  kubelet            Created container credit\n",
      "  Normal  Started    4m16s  kubelet            Started container credit\n"
     ]
    }
   ],
   "source": [
    "! kubectl describe pod \"credit-6c56c875d7-sd92j\""
   ]
  },
  {
   "cell_type": "code",
   "execution_count": 46,
   "metadata": {},
   "outputs": [
    {
     "name": "stdout",
     "output_type": "stream",
     "text": [
      "service/credit unchanged\n"
     ]
    }
   ],
   "source": [
    "! kubectl apply -f service.yaml"
   ]
  },
  {
   "cell_type": "code",
   "execution_count": 36,
   "metadata": {},
   "outputs": [
    {
     "name": "stdout",
     "output_type": "stream",
     "text": [
      "INFO:waitress:Serving on http://0.0.0.0:9696\n"
     ]
    }
   ],
   "source": [
    "! kubectl logs deployment.apps/credit"
   ]
  },
  {
   "cell_type": "code",
   "execution_count": 47,
   "metadata": {},
   "outputs": [
    {
     "name": "stdout",
     "output_type": "stream",
     "text": [
      "Deleting cluster \"kind\" ...\n",
      "Deleted nodes: [\"kind-control-plane\"]\n"
     ]
    }
   ],
   "source": [
    "# kill the kind cluster\n",
    "! kind delete cluster"
   ]
  }
 ],
 "metadata": {
  "kernelspec": {
   "display_name": "Python 3",
   "language": "python",
   "name": "python3"
  },
  "language_info": {
   "codemirror_mode": {
    "name": "ipython",
    "version": 3
   },
   "file_extension": ".py",
   "mimetype": "text/x-python",
   "name": "python",
   "nbconvert_exporter": "python",
   "pygments_lexer": "ipython3",
   "version": "3.10.9"
  }
 },
 "nbformat": 4,
 "nbformat_minor": 2
}
