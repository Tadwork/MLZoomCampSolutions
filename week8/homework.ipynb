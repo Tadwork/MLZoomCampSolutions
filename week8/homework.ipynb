{
 "cells": [
  {
   "cell_type": "markdown",
   "metadata": {},
   "source": [
    "In this homework, we'll build a model for predicting if we have an image of a bee or a wasp. \n",
    "For this, we will use the \"Bee or Wasp?\" dataset that was obtained from [Kaggle](https://www.kaggle.com/datasets/jerzydziewierz/bee-vs-wasp) and slightly rebuilt. \n",
    "\n",
    "The dataset for this homework can be downloaded from [here](https://github.com/SVizor42/ML_Zoomcamp/releases/download/bee-wasp-data/data.zip):\n",
    "\n",
    "```bash\n",
    "wget https://github.com/SVizor42/ML_Zoomcamp/releases/download/bee-wasp-data/data.zip\n",
    "unzip data.zip\n",
    "```\n",
    "\n",
    "and extracted to the root folder into a folder called \"bee-wasp\". The data is intentionally not included in this repo"
   ]
  },
  {
   "cell_type": "markdown",
   "metadata": {},
   "source": [
    "\n",
    "### Question 1\n",
    "\n",
    "Since we have a binary classification problem, what is the best loss function for us?\n",
    "\n",
    "* `mean squared error`\n",
    "* `binary crossentropy`\n",
    "* `categorical crossentropy`\n",
    "* `cosine similarity`\n",
    "\n",
    "> **Note:** since we specify an activation for the output layer, we don't need to set `from_logits=True`\n"
   ]
  },
  {
   "cell_type": "markdown",
   "metadata": {},
   "source": [
    "`binary crossentropy`"
   ]
  },
  {
   "cell_type": "markdown",
   "metadata": {},
   "source": [
    "For this homework we will use Convolutional Neural Network (CNN). Like in the lectures, we'll use Keras.\n",
    "\n",
    "You need to develop the model with following structure:\n",
    "\n",
    "* The shape for input should be `(150, 150, 3)`\n",
    "* Next, create a convolutional layer ([`Conv2D`](https://keras.io/api/layers/convolution_layers/convolution2d/)):\n",
    "    * Use 32 filters\n",
    "    * Kernel size should be `(3, 3)` (that's the size of the filter)\n",
    "    * Use `'relu'` as activation \n",
    "* Reduce the size of the feature map with max pooling ([`MaxPooling2D`](https://keras.io/api/layers/pooling_layers/max_pooling2d/))\n",
    "    * Set the pooling size to `(2, 2)`\n",
    "* Turn the multi-dimensional result into vectors using a [`Flatten`](https://keras.io/api/layers/reshaping_layers/flatten/) layer\n",
    "* Next, add a `Dense` layer with 64 neurons and `'relu'` activation\n",
    "* Finally, create the `Dense` layer with 1 neuron - this will be the output\n",
    "    * The output layer should have an activation - use the appropriate activation for the binary classification case\n",
    "\n",
    "As optimizer use [`SGD`](https://keras.io/api/optimizers/sgd/) with the following parameters:\n",
    "\n",
    "* `SGD(lr=0.002, momentum=0.8)`\n",
    "\n",
    "For clarification about kernel size and max pooling, check [Office Hours](https://www.youtube.com/watch?v=1WRgdBTUaAc)."
   ]
  },
  {
   "cell_type": "code",
   "execution_count": 56,
   "metadata": {},
   "outputs": [],
   "source": [
    "!pip install -q tensorflow"
   ]
  },
  {
   "cell_type": "code",
   "execution_count": 57,
   "metadata": {},
   "outputs": [],
   "source": [
    "import numpy as np\n",
    "import matplotlib.pyplot as plt\n",
    "from keras.preprocessing.image import ImageDataGenerator\n",
    "import tensorflow as tf\n",
    "from tensorflow import keras\n",
    "\n",
    "from tensorflow.keras.applications.xception import Xception\n",
    "from tensorflow.keras.applications.xception import preprocess_input\n",
    "from tensorflow.keras.applications.xception import decode_predictions\n",
    "\n",
    "%matplotlib inline"
   ]
  },
  {
   "cell_type": "code",
   "execution_count": 58,
   "metadata": {},
   "outputs": [
    {
     "name": "stdout",
     "output_type": "stream",
     "text": [
      "Model: \"model_10\"\n",
      "_________________________________________________________________\n",
      " Layer (type)                Output Shape              Param #   \n",
      "=================================================================\n",
      " input_18 (InputLayer)       [(None, 150, 150, 3)]     0         \n",
      "                                                                 \n",
      " conv2d_35 (Conv2D)          (None, 148, 148, 32)      896       \n",
      "                                                                 \n",
      " max_pooling2d_10 (MaxPooli  (None, 74, 74, 32)        0         \n",
      " ng2D)                                                           \n",
      "                                                                 \n",
      " flatten_10 (Flatten)        (None, 175232)            0         \n",
      "                                                                 \n",
      " dense_20 (Dense)            (None, 64)                11214912  \n",
      "                                                                 \n",
      " dense_21 (Dense)            (None, 1)                 65        \n",
      "                                                                 \n",
      "=================================================================\n",
      "Total params: 11215873 (42.79 MB)\n",
      "Trainable params: 11215873 (42.79 MB)\n",
      "Non-trainable params: 0 (0.00 Byte)\n",
      "_________________________________________________________________\n"
     ]
    }
   ],
   "source": [
    "\n",
    "inputs = keras.Input(shape=(150, 150, 3))\n",
    "\n",
    "feature_map = keras.layers.Conv2D(32,(3,3), activation='relu')(inputs)\n",
    "\n",
    "vectors = keras.layers.MaxPooling2D(pool_size=(2,2))(feature_map)\n",
    "flattened = keras.layers.Flatten()(vectors)\n",
    "\n",
    "dense_layer = keras.layers.Dense(64, activation='relu')(flattened)\n",
    "outputs = keras.layers.Dense(1, activation='sigmoid')(dense_layer)\n",
    "\n",
    "model = keras.Model(inputs, outputs)\n",
    "\n",
    "# use legacy because on mac M1/M2 SGD is slow\n",
    "optimizer = tf.keras.optimizers.legacy.SGD(\n",
    "    learning_rate=0.01,\n",
    "    momentum=0.8\n",
    ")\n",
    "loss = keras.losses.BinaryCrossentropy(from_logits=False)\n",
    "\n",
    "model.compile(optimizer=optimizer, loss=loss, metrics=['accuracy'])\n",
    "model.summary()"
   ]
  },
  {
   "cell_type": "markdown",
   "metadata": {},
   "source": [
    "### Question 2\n",
    "\n",
    "What's the number of parameters in the convolutional layer of our model? You can use the `summary` method for that. \n",
    "\n",
    "* 1 \n",
    "* 65\n",
    "* 896\n",
    "* 11214912"
   ]
  },
  {
   "cell_type": "markdown",
   "metadata": {},
   "source": [
    "# 896"
   ]
  },
  {
   "cell_type": "markdown",
   "metadata": {},
   "source": [
    "For the next two questions, use the following data generator for both train and test sets:\n",
    "\n",
    "```python\n",
    "ImageDataGenerator(rescale=1./255)\n",
    "```\n",
    "\n",
    "* We don't need to do any additional pre-processing for the images.\n",
    "* When reading the data from train/test directories, check the `class_mode` parameter. Which value should it be for a binary classification problem?\n",
    "* Use `batch_size=20`\n",
    "* Use `shuffle=True` for both training and test sets. \n",
    "\n",
    "For training use `.fit()` with the following params:\n",
    "\n",
    "```python\n",
    "model.fit(\n",
    "    train_generator,\n",
    "    epochs=10,\n",
    "    validation_data=test_generator\n",
    ")\n",
    "```"
   ]
  },
  {
   "cell_type": "code",
   "execution_count": 59,
   "metadata": {},
   "outputs": [
    {
     "name": "stdout",
     "output_type": "stream",
     "text": [
      "Found 3677 images belonging to 2 classes.\n"
     ]
    }
   ],
   "source": [
    "train_gen = ImageDataGenerator(rescale=1./255)\n",
    "\n",
    "train_ds = train_gen.flow_from_directory(\n",
    "    './bee-wasp/train',\n",
    "    class_mode='binary',\n",
    "    shuffle=True,\n",
    "    target_size=(150, 150),\n",
    "    batch_size=20\n",
    ")\n",
    "# model.predict(train_ds)"
   ]
  },
  {
   "cell_type": "code",
   "execution_count": 60,
   "metadata": {},
   "outputs": [
    {
     "name": "stdout",
     "output_type": "stream",
     "text": [
      "Found 918 images belonging to 2 classes.\n",
      "Epoch 1/10\n",
      "184/184 [==============================] - 8s 43ms/step - loss: 0.6371 - accuracy: 0.6337 - val_loss: 0.5987 - val_accuracy: 0.6732\n",
      "Epoch 2/10\n",
      "184/184 [==============================] - 7s 40ms/step - loss: 0.5841 - accuracy: 0.6981 - val_loss: 0.6022 - val_accuracy: 0.6645\n",
      "Epoch 3/10\n",
      "184/184 [==============================] - 7s 40ms/step - loss: 0.5391 - accuracy: 0.7403 - val_loss: 0.5442 - val_accuracy: 0.7397\n",
      "Epoch 4/10\n",
      "184/184 [==============================] - 7s 40ms/step - loss: 0.4982 - accuracy: 0.7683 - val_loss: 0.5627 - val_accuracy: 0.7222\n",
      "Epoch 5/10\n",
      "184/184 [==============================] - 7s 39ms/step - loss: 0.4345 - accuracy: 0.8094 - val_loss: 0.5721 - val_accuracy: 0.7495\n",
      "Epoch 6/10\n",
      "184/184 [==============================] - 7s 40ms/step - loss: 0.3544 - accuracy: 0.8589 - val_loss: 0.5705 - val_accuracy: 0.7636\n",
      "Epoch 7/10\n",
      "184/184 [==============================] - 8s 41ms/step - loss: 0.2556 - accuracy: 0.9032 - val_loss: 0.6298 - val_accuracy: 0.7222\n",
      "Epoch 8/10\n",
      "184/184 [==============================] - 8s 42ms/step - loss: 0.1630 - accuracy: 0.9445 - val_loss: 0.7348 - val_accuracy: 0.7527\n",
      "Epoch 9/10\n",
      "184/184 [==============================] - 8s 41ms/step - loss: 0.0948 - accuracy: 0.9717 - val_loss: 0.9517 - val_accuracy: 0.7331\n",
      "Epoch 10/10\n",
      "184/184 [==============================] - 8s 41ms/step - loss: 0.0660 - accuracy: 0.9848 - val_loss: 0.9337 - val_accuracy: 0.6874\n"
     ]
    }
   ],
   "source": [
    "\n",
    "test_gen = ImageDataGenerator(rescale=1./255)\n",
    "\n",
    "test_ds = test_gen.flow_from_directory(\n",
    "    './bee-wasp/test',\n",
    "    class_mode='binary',\n",
    "    shuffle=True,\n",
    "    target_size=(150, 150),\n",
    "    batch_size=20\n",
    ")\n",
    "\n",
    "history = model.fit(\n",
    "    train_ds,\n",
    "    epochs=10,\n",
    "    validation_data=test_ds\n",
    ")"
   ]
  },
  {
   "cell_type": "markdown",
   "metadata": {},
   "source": [
    "### Question 3\n",
    "\n",
    "What is the median of training accuracy for all the epochs for this model?\n",
    "\n",
    "* 0.20\n",
    "* 0.40\n",
    "* 0.60\n",
    "* 0.80"
   ]
  },
  {
   "cell_type": "code",
   "execution_count": 61,
   "metadata": {},
   "outputs": [
    {
     "data": {
      "text/plain": [
       "0.8341038823127747"
      ]
     },
     "execution_count": 61,
     "metadata": {},
     "output_type": "execute_result"
    }
   ],
   "source": [
    "# get the median training accuracy for all the epochs from the history object\n",
    "training_accuracy = history.history['accuracy']\n",
    "np.median(training_accuracy)"
   ]
  },
  {
   "cell_type": "markdown",
   "metadata": {},
   "source": [
    "### Question 4\n",
    "\n",
    "What is the standard deviation of training loss for all the epochs for this model?\n",
    "\n",
    "* 0.031\n",
    "* 0.061\n",
    "* 0.091\n",
    "* 0.131"
   ]
  },
  {
   "cell_type": "code",
   "execution_count": 62,
   "metadata": {},
   "outputs": [
    {
     "data": {
      "text/plain": [
       "0.19752818675508646"
      ]
     },
     "execution_count": 62,
     "metadata": {},
     "output_type": "execute_result"
    }
   ],
   "source": [
    "training_loss = history.history['loss']\n",
    "# get the standard deviation of the training loss for all the epochs from the history object\n",
    "np.std(training_loss)"
   ]
  },
  {
   "cell_type": "code",
   "execution_count": 63,
   "metadata": {},
   "outputs": [
    {
     "data": {
      "text/plain": [
       "<matplotlib.legend.Legend at 0x29403cbb0>"
      ]
     },
     "execution_count": 63,
     "metadata": {},
     "output_type": "execute_result"
    },
    {
     "data": {
      "image/png": "[encoded data removed]",
      "text/plain": [
       "<Figure size 640x480 with 1 Axes>"
      ]
     },
     "metadata": {},
     "output_type": "display_data"
    }
   ],
   "source": [
    "plt.plot(history.history['accuracy'], label=('train'))\n",
    "plt.plot(history.history['val_accuracy'], label=('val'))\n",
    "\n",
    "plt.xticks(np.arange(10))\n",
    "plt.legend()"
   ]
  },
  {
   "cell_type": "markdown",
   "metadata": {},
   "source": [
    "### Data Augmentation\n",
    "\n",
    "For the next two questions, we'll generate more data using data augmentations. \n",
    "\n",
    "Add the following augmentations to your training data generator:\n",
    "\n",
    "* `rotation_range=50,`\n",
    "* `width_shift_range=0.1,`\n",
    "* `height_shift_range=0.1,`\n",
    "* `zoom_range=0.1,`\n",
    "* `horizontal_flip=True,`\n",
    "* `fill_mode='nearest'`"
   ]
  },
  {
   "cell_type": "code",
   "execution_count": 64,
   "metadata": {},
   "outputs": [
    {
     "name": "stdout",
     "output_type": "stream",
     "text": [
      "Found 3677 images belonging to 2 classes.\n"
     ]
    }
   ],
   "source": [
    "train_gen = ImageDataGenerator(\n",
    "    rescale=1./255,\n",
    "    rotation_range=50,\n",
    "    width_shift_range=0.1,\n",
    "    height_shift_range=0.1,\n",
    "    zoom_range=0.1,\n",
    "    horizontal_flip=True,\n",
    "    fill_mode='nearest'\n",
    ")\n",
    "\n",
    "train_ds = train_gen.flow_from_directory(\n",
    "    './bee-wasp/train',\n",
    "    class_mode='binary',\n",
    "    shuffle=True,\n",
    "    target_size=(150, 150),\n",
    "    batch_size=20\n",
    ")"
   ]
  },
  {
   "cell_type": "markdown",
   "metadata": {},
   "source": [
    "\n",
    "\n",
    "Let's train our model for 10 more epochs using the same code as previously.\n",
    "> **Note:** make sure you don't re-create the model - we want to continue training the model\n",
    "we already started training.\n"
   ]
  },
  {
   "cell_type": "code",
   "execution_count": 65,
   "metadata": {},
   "outputs": [
    {
     "name": "stdout",
     "output_type": "stream",
     "text": [
      "Epoch 1/10\n",
      "184/184 [==============================] - 15s 82ms/step - loss: 0.5492 - accuracy: 0.7501 - val_loss: 0.5688 - val_accuracy: 0.7603\n",
      "Epoch 2/10\n",
      "184/184 [==============================] - 15s 79ms/step - loss: 0.5047 - accuracy: 0.7721 - val_loss: 0.5225 - val_accuracy: 0.7614\n",
      "Epoch 3/10\n",
      "184/184 [==============================] - 15s 80ms/step - loss: 0.4904 - accuracy: 0.7735 - val_loss: 0.5284 - val_accuracy: 0.7734\n",
      "Epoch 4/10\n",
      "184/184 [==============================] - 14s 78ms/step - loss: 0.4973 - accuracy: 0.7721 - val_loss: 0.5036 - val_accuracy: 0.7865\n",
      "Epoch 5/10\n",
      "184/184 [==============================] - 15s 82ms/step - loss: 0.4742 - accuracy: 0.7900 - val_loss: 0.5141 - val_accuracy: 0.7756\n",
      "Epoch 6/10\n",
      "184/184 [==============================] - 15s 82ms/step - loss: 0.4781 - accuracy: 0.7852 - val_loss: 0.4868 - val_accuracy: 0.7963\n",
      "Epoch 7/10\n",
      "184/184 [==============================] - 16s 84ms/step - loss: 0.4816 - accuracy: 0.7781 - val_loss: 0.5227 - val_accuracy: 0.7571\n",
      "Epoch 8/10\n",
      "184/184 [==============================] - 15s 83ms/step - loss: 0.4660 - accuracy: 0.7868 - val_loss: 0.4732 - val_accuracy: 0.7952\n",
      "Epoch 9/10\n",
      "184/184 [==============================] - 15s 82ms/step - loss: 0.4641 - accuracy: 0.7887 - val_loss: 0.5727 - val_accuracy: 0.7549\n",
      "Epoch 10/10\n",
      "184/184 [==============================] - 15s 84ms/step - loss: 0.4639 - accuracy: 0.7947 - val_loss: 0.5177 - val_accuracy: 0.7778\n"
     ]
    }
   ],
   "source": [
    "history_after_augmentation = model.fit(\n",
    "    train_ds,\n",
    "    epochs=10,\n",
    "    validation_data=test_ds\n",
    ")"
   ]
  },
  {
   "cell_type": "code",
   "execution_count": 66,
   "metadata": {},
   "outputs": [
    {
     "data": {
      "text/plain": [
       "<matplotlib.legend.Legend at 0x291e53580>"
      ]
     },
     "execution_count": 66,
     "metadata": {},
     "output_type": "execute_result"
    },
    {
     "data": {
      "image/png": "[encoded data removed]",
      "text/plain": [
       "<Figure size 640x480 with 1 Axes>"
      ]
     },
     "metadata": {},
     "output_type": "display_data"
    }
   ],
   "source": [
    "plt.plot(history.history['accuracy'], label=('train'))\n",
    "plt.plot(history.history['val_accuracy'], label=('val'))\n",
    "plt.plot(history_after_augmentation.history['accuracy'], label=('train (augmented)'))\n",
    "plt.plot(history_after_augmentation.history['val_accuracy'], label=('val (augmented)'))\n",
    "\n",
    "plt.xticks(np.arange(10))\n",
    "plt.legend()"
   ]
  },
  {
   "cell_type": "code",
   "execution_count": 73,
   "metadata": {},
   "outputs": [
    {
     "data": {
      "text/plain": [
       "0.6700503766536713"
      ]
     },
     "execution_count": 73,
     "metadata": {},
     "output_type": "execute_result"
    }
   ],
   "source": [
    "# get the median training accuracy for all the epochs from the history object\n",
    "test_loss = history.history['val_loss']\n",
    "np.mean(test_loss)"
   ]
  },
  {
   "cell_type": "markdown",
   "metadata": {},
   "source": [
    "### Question 6\n",
    "\n",
    "What's the average of test accuracy for the last 5 epochs (from 6 to 10)\n",
    "for the model trained with augmentations?\n",
    "\n",
    "* 0.38\n",
    "* 0.58\n",
    "* 0.78\n",
    "* 0.98"
   ]
  },
  {
   "cell_type": "code",
   "execution_count": 74,
   "metadata": {},
   "outputs": [
    {
     "data": {
      "text/plain": [
       "0.7331154942512512"
      ]
     },
     "execution_count": 74,
     "metadata": {},
     "output_type": "execute_result"
    }
   ],
   "source": [
    "test_accuracy = history.history['val_accuracy'][5:]\n",
    "np.median(test_accuracy)"
   ]
  }
 ],
 "metadata": {
  "kernelspec": {
   "display_name": "Python 3",
   "language": "python",
   "name": "python3"
  },
  "language_info": {
   "codemirror_mode": {
    "name": "ipython",
    "version": 3
   },
   "file_extension": ".py",
   "mimetype": "text/x-python",
   "name": "python",
   "nbconvert_exporter": "python",
   "pygments_lexer": "ipython3",
   "version": "3.10.9"
  }
 },
 "nbformat": 4,
 "nbformat_minor": 2
}
